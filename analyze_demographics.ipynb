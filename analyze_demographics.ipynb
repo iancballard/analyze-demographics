{
 "metadata": {
  "name": "",
  "signature": "sha256:18a90841c40411449fc166c3f2fb0d6c92918e466f0228be3374ad25eed79417"
 },
 "nbformat": 3,
 "nbformat_minor": 0,
 "worksheets": [
  {
   "cells": [
    {
     "cell_type": "code",
     "collapsed": false,
     "input": [
      "import os\n",
      "import numpy as np\n",
      "import glob\n",
      "import csv\n",
      "from collections import Counter"
     ],
     "language": "python",
     "metadata": {},
     "outputs": [],
     "prompt_number": 18
    },
    {
     "cell_type": "code",
     "collapsed": false,
     "input": [
      "%matplotlib inline"
     ],
     "language": "python",
     "metadata": {},
     "outputs": [],
     "prompt_number": 2
    },
    {
     "cell_type": "code",
     "collapsed": false,
     "input": [
      "##function for reading out data from log file\n",
      "def line_to_matrix(line):\n",
      "\tline = line.split('=')[1]\n",
      "\tline = line.split(',')\n",
      "\tline = map(float,line)\n",
      "\tline = np.array(line)\n",
      "\tnew_out = line.reshape(-1,5)\n",
      "\treturn new_out"
     ],
     "language": "python",
     "metadata": {},
     "outputs": [],
     "prompt_number": 3
    },
    {
     "cell_type": "code",
     "collapsed": false,
     "input": [
      "##takes the mturk results file and makes a dictionary mapping\n",
      "##the worker id to the assignment id\n",
      "def get_assignment_id(assignment_file):\n",
      "\trowNum=0\n",
      "\tworker_id_2_assignment_id = {}\n",
      "\twith(open(assignment_file,'rU')) as f:\n",
      "\t\treader = csv.reader(f)\n",
      "\t\t#worker id is 15 and 14\n",
      "\t\tfor row in reader:\n",
      "\t \t\tif rowNum > 0:\n",
      "\t\t\t\tworker_id_2_assignment_id[row[15]] = row[14]\n",
      "\t\t\trowNum += 1\n",
      "\treturn worker_id_2_assignment_id"
     ],
     "language": "python",
     "metadata": {},
     "outputs": [],
     "prompt_number": 4
    },
    {
     "cell_type": "code",
     "collapsed": false,
     "input": [
      "##variables and paths\n",
      "data_dir = '/Users/ianballard/Desktop/log_files_2014/'"
     ],
     "language": "python",
     "metadata": {},
     "outputs": [],
     "prompt_number": 8
    },
    {
     "cell_type": "code",
     "collapsed": false,
     "input": [
      "log_files = glob.glob(data_dir + 'data/*log')"
     ],
     "language": "python",
     "metadata": {},
     "outputs": [],
     "prompt_number": 11
    },
    {
     "cell_type": "code",
     "collapsed": false,
     "input": [
      "#organize log data into a dictionary\n",
      "ip_to_id = {}\n",
      "full_data = {}\n",
      "for n,f in enumerate(log_files):\n",
      "    subj_file = open(os.path.join(data_dir,f),'r')\n",
      "    subj_file = subj_file.readlines()\n",
      "    subj_file = np.array(subj_file)\n",
      "\n",
      "    \n",
      "    ##get mturk id\n",
      "    ip_to_id[f] = subj_file[0].split(' ')[1].split('=')[1]\n",
      "\n",
      "    ##process file into dictionary\n",
      "    subj_dict = {}\n",
      "    for n,line in enumerate(subj_file):\n",
      "        if n < len(subj_file) - 1:\n",
      "            subj_dict[line.split(' ')[1].split('=')[0]] = line.split(' ')[1].split('=')[1].strip('\\n')\n",
      "    full_data[f] = subj_dict\n"
     ],
     "language": "python",
     "metadata": {},
     "outputs": [],
     "prompt_number": 12
    },
    {
     "cell_type": "code",
     "collapsed": false,
     "input": [
      "#analyze demographic data\n",
      "gender_cnt = Counter()\n",
      "race_cnt = Counter()\n",
      "hispanic_cnt = Counter()\n",
      "for n,f in enumerate(log_files):\n",
      "    try: \n",
      "        info = full_data[f]['info'].split(',')\n",
      "        gender_cnt[info[1]] += 1\n",
      "        race_cnt[info[2]] += 1\n",
      "        hispanic_cnt[info[3]] += 1\n",
      "        if info[3] == 'EurAm':\n",
      "            print f\n",
      "    except: \n",
      "        None\n",
      "print gender_cnt\n",
      "print race_cnt\n",
      "print hispanic_cnt"
     ],
     "language": "python",
     "metadata": {},
     "outputs": [
      {
       "output_type": "stream",
       "stream": "stdout",
       "text": [
        "/Users/ianballard/Desktop/log_files_2014/data/81.240.186.87.log\n",
        "Counter({'Male': 119, 'Female': 95})\n",
        "Counter({'EurAm': 173, 'AfAm': 20, 'AsAm': 13, 'Mix': 3, 'Other-hispanic': 1, 'Other-black%20and%20asian': 1, 'NatAm': 1, 'Other-Multiracial': 1, 'Other-Hispanic': 1})\n",
        "Counter({'No': 198, 'Yes': 15, 'EurAm': 1})\n"
       ]
      }
     ],
     "prompt_number": 27
    },
    {
     "cell_type": "code",
     "collapsed": false,
     "input": [],
     "language": "python",
     "metadata": {},
     "outputs": []
    }
   ],
   "metadata": {}
  }
 ]
}